{
 "cells": [
  {
   "cell_type": "markdown",
   "id": "02a9ab47",
   "metadata": {},
   "source": [
    "1. Which two operator overloading methods can you use in your classes to support iteration?"
   ]
  },
  {
   "cell_type": "markdown",
   "id": "1afb6f6c",
   "metadata": {},
   "source": [
    "Ans: iter and next are the operator overloading methods in python that support iteration and are collectively called iterator protocol.\n",
    "\n",
    "iter returns the iterator object and is called at the start of loop in our respective class.\n",
    "\n",
    "next is called at each loop increment, it returns the incremented value. Also Stopiteration is raised when there is no value to return."
   ]
  },
  {
   "cell_type": "markdown",
   "id": "d186a0f1",
   "metadata": {},
   "source": [
    "2. In what contexts do the two operator overloading methods manage printing?"
   ]
  },
  {
   "cell_type": "markdown",
   "id": "95623fe8",
   "metadata": {},
   "source": [
    "Ans: str and repr are two operator overloading methods that manage printing.\n",
    "\n",
    "In Short, the difference between both these operators is the goal of repr is to be unambiguous and str is to be readable. Whenever we are printing any object reference internally str method will be called by default. The main purpose of str is for readability. it prints the informal string representation of an object, one that is useful for printing the object. it may not be possible to convert result string to original object. repr is used to print official string representation of an object, so it includes all information and development."
   ]
  },
  {
   "cell_type": "markdown",
   "id": "14d7548f",
   "metadata": {},
   "source": [
    "3. In a class, how do you intercept slice operations?"
   ]
  },
  {
   "cell_type": "markdown",
   "id": "7e3258cd",
   "metadata": {},
   "source": [
    "Ans: In a class use of slice() in getitem method is used for intercept slice operation. This slice method is provided with start integer number, stop integer number and step integer number.\n",
    "\n",
    "Example: getitem(slice(start,stop,step))"
   ]
  },
  {
   "cell_type": "markdown",
   "id": "a9c3273b",
   "metadata": {},
   "source": [
    "4. In a class, how do you capture in-place addition?"
   ]
  },
  {
   "cell_type": "markdown",
   "id": "e68f67d7",
   "metadata": {},
   "source": [
    "Ans: super() method can be used to augment, instead of completely replacing, an inherited method.Ans: a+b is normal addition. Whereas a+=b is inplace addition operation. In this in-place addition a itself will store the value of addition. In a class iadd method is used for this in-place operation"
   ]
  },
  {
   "cell_type": "markdown",
   "id": "ed6f92d2",
   "metadata": {},
   "source": [
    "Q5. When is it appropriate to use operator overloading?"
   ]
  },
  {
   "cell_type": "markdown",
   "id": "3ae097c8",
   "metadata": {},
   "source": [
    "Ans: Operator overloading is used when we want to use an operator other than its normal operation to have different meaning according to the context required in user defined function."
   ]
  }
 ],
 "metadata": {
  "kernelspec": {
   "display_name": "Python 3 (ipykernel)",
   "language": "python",
   "name": "python3"
  },
  "language_info": {
   "codemirror_mode": {
    "name": "ipython",
    "version": 3
   },
   "file_extension": ".py",
   "mimetype": "text/x-python",
   "name": "python",
   "nbconvert_exporter": "python",
   "pygments_lexer": "ipython3",
   "version": "3.9.12"
  }
 },
 "nbformat": 4,
 "nbformat_minor": 5
}
